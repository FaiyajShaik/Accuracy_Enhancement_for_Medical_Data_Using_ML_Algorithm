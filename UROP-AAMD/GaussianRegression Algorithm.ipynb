{
 "cells": [
  {
   "cell_type": "code",
   "execution_count": 1,
   "id": "98feed3d",
   "metadata": {},
   "outputs": [],
   "source": [
    "#import required libraries\n",
    "import pandas as pd\n",
    "import numpy as np\n",
    "import matplotlib.pyplot as plt"
   ]
  },
  {
   "cell_type": "code",
   "execution_count": 2,
   "id": "9ce6726f",
   "metadata": {},
   "outputs": [],
   "source": [
    "#import dataset\n",
    "df = pd.read_excel(\"Simplified All samples.xlsx\")"
   ]
  },
  {
   "cell_type": "code",
   "execution_count": 3,
   "id": "c7d744c1",
   "metadata": {},
   "outputs": [
    {
     "data": {
      "text/html": [
       "<div>\n",
       "<style scoped>\n",
       "    .dataframe tbody tr th:only-of-type {\n",
       "        vertical-align: middle;\n",
       "    }\n",
       "\n",
       "    .dataframe tbody tr th {\n",
       "        vertical-align: top;\n",
       "    }\n",
       "\n",
       "    .dataframe thead th {\n",
       "        text-align: right;\n",
       "    }\n",
       "</style>\n",
       "<table border=\"1\" class=\"dataframe\">\n",
       "  <thead>\n",
       "    <tr style=\"text-align: right;\">\n",
       "      <th></th>\n",
       "      <th>Estimation value</th>\n",
       "      <th>Random sample value</th>\n",
       "      <th>Bmi Value</th>\n",
       "      <th>Rms value</th>\n",
       "    </tr>\n",
       "  </thead>\n",
       "  <tbody>\n",
       "    <tr>\n",
       "      <th>0</th>\n",
       "      <td>150.9780</td>\n",
       "      <td>140</td>\n",
       "      <td>24.1964</td>\n",
       "      <td>105.2693</td>\n",
       "    </tr>\n",
       "    <tr>\n",
       "      <th>1</th>\n",
       "      <td>150.9780</td>\n",
       "      <td>147</td>\n",
       "      <td>24.1964</td>\n",
       "      <td>105.4302</td>\n",
       "    </tr>\n",
       "    <tr>\n",
       "      <th>2</th>\n",
       "      <td>150.4670</td>\n",
       "      <td>125</td>\n",
       "      <td>23.6652</td>\n",
       "      <td>105.3727</td>\n",
       "    </tr>\n",
       "    <tr>\n",
       "      <th>3</th>\n",
       "      <td>151.7517</td>\n",
       "      <td>135</td>\n",
       "      <td>24.9929</td>\n",
       "      <td>104.9116</td>\n",
       "    </tr>\n",
       "    <tr>\n",
       "      <th>4</th>\n",
       "      <td>151.2245</td>\n",
       "      <td>156</td>\n",
       "      <td>24.4510</td>\n",
       "      <td>104.9896</td>\n",
       "    </tr>\n",
       "  </tbody>\n",
       "</table>\n",
       "</div>"
      ],
      "text/plain": [
       "   Estimation value  Random sample value  Bmi Value  Rms value\n",
       "0          150.9780                  140    24.1964   105.2693\n",
       "1          150.9780                  147    24.1964   105.4302\n",
       "2          150.4670                  125    23.6652   105.3727\n",
       "3          151.7517                  135    24.9929   104.9116\n",
       "4          151.2245                  156    24.4510   104.9896"
      ]
     },
     "execution_count": 3,
     "metadata": {},
     "output_type": "execute_result"
    }
   ],
   "source": [
    "df.head()"
   ]
  },
  {
   "cell_type": "code",
   "execution_count": 4,
   "id": "776704fd",
   "metadata": {},
   "outputs": [
    {
     "data": {
      "text/plain": [
       "(31, 4)"
      ]
     },
     "execution_count": 4,
     "metadata": {},
     "output_type": "execute_result"
    }
   ],
   "source": [
    "df.shape"
   ]
  },
  {
   "cell_type": "code",
   "execution_count": 5,
   "id": "df811f62",
   "metadata": {},
   "outputs": [
    {
     "name": "stdout",
     "output_type": "stream",
     "text": [
      "<class 'pandas.core.frame.DataFrame'>\n",
      "RangeIndex: 31 entries, 0 to 30\n",
      "Data columns (total 4 columns):\n",
      " #   Column               Non-Null Count  Dtype  \n",
      "---  ------               --------------  -----  \n",
      " 0   Estimation value     31 non-null     float64\n",
      " 1   Random sample value  31 non-null     int64  \n",
      " 2   Bmi Value            31 non-null     float64\n",
      " 3   Rms value            31 non-null     float64\n",
      "dtypes: float64(3), int64(1)\n",
      "memory usage: 1.1 KB\n"
     ]
    }
   ],
   "source": [
    "df.info()"
   ]
  },
  {
   "cell_type": "code",
   "execution_count": 6,
   "id": "745a70f2",
   "metadata": {},
   "outputs": [
    {
     "data": {
      "text/html": [
       "<div>\n",
       "<style scoped>\n",
       "    .dataframe tbody tr th:only-of-type {\n",
       "        vertical-align: middle;\n",
       "    }\n",
       "\n",
       "    .dataframe tbody tr th {\n",
       "        vertical-align: top;\n",
       "    }\n",
       "\n",
       "    .dataframe thead th {\n",
       "        text-align: right;\n",
       "    }\n",
       "</style>\n",
       "<table border=\"1\" class=\"dataframe\">\n",
       "  <thead>\n",
       "    <tr style=\"text-align: right;\">\n",
       "      <th></th>\n",
       "      <th>Estimation value</th>\n",
       "      <th>Random sample value</th>\n",
       "      <th>Bmi Value</th>\n",
       "      <th>Rms value</th>\n",
       "    </tr>\n",
       "  </thead>\n",
       "  <tbody>\n",
       "    <tr>\n",
       "      <th>count</th>\n",
       "      <td>31.000000</td>\n",
       "      <td>31.000000</td>\n",
       "      <td>31.000000</td>\n",
       "      <td>31.000000</td>\n",
       "    </tr>\n",
       "    <tr>\n",
       "      <th>mean</th>\n",
       "      <td>153.407245</td>\n",
       "      <td>146.483871</td>\n",
       "      <td>26.744148</td>\n",
       "      <td>105.130329</td>\n",
       "    </tr>\n",
       "    <tr>\n",
       "      <th>std</th>\n",
       "      <td>3.972386</td>\n",
       "      <td>16.173787</td>\n",
       "      <td>4.104966</td>\n",
       "      <td>0.270287</td>\n",
       "    </tr>\n",
       "    <tr>\n",
       "      <th>min</th>\n",
       "      <td>148.896400</td>\n",
       "      <td>121.000000</td>\n",
       "      <td>22.031000</td>\n",
       "      <td>104.398200</td>\n",
       "    </tr>\n",
       "    <tr>\n",
       "      <th>25%</th>\n",
       "      <td>150.645000</td>\n",
       "      <td>133.000000</td>\n",
       "      <td>23.849800</td>\n",
       "      <td>104.950600</td>\n",
       "    </tr>\n",
       "    <tr>\n",
       "      <th>50%</th>\n",
       "      <td>151.751700</td>\n",
       "      <td>144.000000</td>\n",
       "      <td>25.103800</td>\n",
       "      <td>105.219400</td>\n",
       "    </tr>\n",
       "    <tr>\n",
       "      <th>75%</th>\n",
       "      <td>156.137500</td>\n",
       "      <td>158.000000</td>\n",
       "      <td>29.559900</td>\n",
       "      <td>105.340800</td>\n",
       "    </tr>\n",
       "    <tr>\n",
       "      <th>max</th>\n",
       "      <td>162.334000</td>\n",
       "      <td>178.000000</td>\n",
       "      <td>36.000000</td>\n",
       "      <td>105.512000</td>\n",
       "    </tr>\n",
       "  </tbody>\n",
       "</table>\n",
       "</div>"
      ],
      "text/plain": [
       "       Estimation value  Random sample value  Bmi Value   Rms value\n",
       "count         31.000000            31.000000  31.000000   31.000000\n",
       "mean         153.407245           146.483871  26.744148  105.130329\n",
       "std            3.972386            16.173787   4.104966    0.270287\n",
       "min          148.896400           121.000000  22.031000  104.398200\n",
       "25%          150.645000           133.000000  23.849800  104.950600\n",
       "50%          151.751700           144.000000  25.103800  105.219400\n",
       "75%          156.137500           158.000000  29.559900  105.340800\n",
       "max          162.334000           178.000000  36.000000  105.512000"
      ]
     },
     "execution_count": 6,
     "metadata": {},
     "output_type": "execute_result"
    }
   ],
   "source": [
    "df.describe()"
   ]
  },
  {
   "cell_type": "code",
   "execution_count": 6,
   "id": "975b9c9b",
   "metadata": {},
   "outputs": [],
   "source": [
    "#splitting data into train & test\n",
    "y= df.iloc[ : , :-3].values\n",
    "X= df.iloc[ : , 2:4].values"
   ]
  },
  {
   "cell_type": "code",
   "execution_count": 7,
   "id": "2b2c067d",
   "metadata": {},
   "outputs": [
    {
     "data": {
      "text/plain": [
       "(31, 2)"
      ]
     },
     "execution_count": 7,
     "metadata": {},
     "output_type": "execute_result"
    }
   ],
   "source": [
    "X.shape"
   ]
  },
  {
   "cell_type": "code",
   "execution_count": 8,
   "id": "cacf96a5",
   "metadata": {},
   "outputs": [
    {
     "data": {
      "text/plain": [
       "(31, 1)"
      ]
     },
     "execution_count": 8,
     "metadata": {},
     "output_type": "execute_result"
    }
   ],
   "source": [
    "y.shape"
   ]
  },
  {
   "cell_type": "code",
   "execution_count": 9,
   "id": "abe976e3",
   "metadata": {},
   "outputs": [],
   "source": [
    "from sklearn.model_selection import train_test_split\n",
    "X_train, X_test, y_train, y_test = train_test_split(X, y, test_size=0.33, random_state=42)"
   ]
  },
  {
   "cell_type": "code",
   "execution_count": 10,
   "id": "233645c7",
   "metadata": {},
   "outputs": [
    {
     "data": {
      "text/plain": [
       "GaussianProcessRegressor(random_state=42)"
      ]
     },
     "execution_count": 10,
     "metadata": {},
     "output_type": "execute_result"
    }
   ],
   "source": [
    "from sklearn.gaussian_process import GaussianProcessRegressor\n",
    "from sklearn.metrics import classification_report, confusion_matrix\n",
    "clf = GaussianProcessRegressor(random_state=42)\n",
    "clf.fit(X, y)"
   ]
  },
  {
   "cell_type": "code",
   "execution_count": 11,
   "id": "9ad4d762",
   "metadata": {},
   "outputs": [],
   "source": [
    "# Make predictions using the test data\n",
    "y_pred = clf.predict(X_test)"
   ]
  },
  {
   "cell_type": "code",
   "execution_count": 12,
   "id": "1e1a24ff",
   "metadata": {},
   "outputs": [
    {
     "data": {
      "text/plain": [
       "array([[ 29.3859 , 105.3408 ],\n",
       "       [ 26.9127 , 105.4593 ],\n",
       "       [ 30.8444 , 105.03311],\n",
       "       [ 27.5872 , 105.2372 ],\n",
       "       [ 23.3066 , 105.2613 ],\n",
       "       [ 22.031  , 105.2194 ],\n",
       "       [ 35.086  , 104.9986 ],\n",
       "       [ 35.5998 , 104.9976 ],\n",
       "       [ 22.3704 , 105.4754 ],\n",
       "       [ 24.1964 , 105.2693 ],\n",
       "       [ 24.451  , 104.9896 ]])"
      ]
     },
     "execution_count": 12,
     "metadata": {},
     "output_type": "execute_result"
    }
   ],
   "source": [
    "X_test"
   ]
  },
  {
   "cell_type": "code",
   "execution_count": 13,
   "id": "23f380c6",
   "metadata": {},
   "outputs": [
    {
     "data": {
      "text/plain": [
       "array([[155.96999997],\n",
       "       [153.59099997],\n",
       "       [157.61089998],\n",
       "       [154.24      ],\n",
       "       [150.12280043],\n",
       "       [148.89639983],\n",
       "       [161.45499997],\n",
       "       [161.94970004],\n",
       "       [149.22099999],\n",
       "       [150.97800041],\n",
       "       [151.22449999]])"
      ]
     },
     "execution_count": 13,
     "metadata": {},
     "output_type": "execute_result"
    }
   ],
   "source": [
    "y_pred"
   ]
  },
  {
   "cell_type": "code",
   "execution_count": 14,
   "id": "34eca463",
   "metadata": {},
   "outputs": [
    {
     "data": {
      "text/plain": [
       "array([[155.97  ],\n",
       "       [153.591 ],\n",
       "       [157.6109],\n",
       "       [154.24  ],\n",
       "       [150.1228],\n",
       "       [148.8964],\n",
       "       [161.455 ],\n",
       "       [161.9497],\n",
       "       [149.221 ],\n",
       "       [150.978 ],\n",
       "       [151.2245]])"
      ]
     },
     "execution_count": 14,
     "metadata": {},
     "output_type": "execute_result"
    }
   ],
   "source": [
    "y_test"
   ]
  },
  {
   "cell_type": "code",
   "execution_count": 16,
   "id": "56c9a135",
   "metadata": {},
   "outputs": [],
   "source": [
    "from sklearn.metrics import mean_squared_error\n",
    "# Calculate the mean squared error\n",
    "mse = mean_squared_error(y_test, y_pred)"
   ]
  },
  {
   "cell_type": "code",
   "execution_count": 17,
   "id": "f9cf58de",
   "metadata": {},
   "outputs": [
    {
     "name": "stdout",
     "output_type": "stream",
     "text": [
      "3.5150761200784427e-14\n"
     ]
    }
   ],
   "source": [
    "# Print the mean squared error\n",
    "print(mse)"
   ]
  },
  {
   "cell_type": "code",
   "execution_count": 18,
   "id": "4c6755e4",
   "metadata": {},
   "outputs": [
    {
     "name": "stdout",
     "output_type": "stream",
     "text": [
      "MSE:  3.5150761200784427e-14\n",
      "RMSE:  1.8748536263075158e-07\n"
     ]
    }
   ],
   "source": [
    "from sklearn.metrics import mean_squared_error\n",
    "import math\n",
    "print('MSE: ',mean_squared_error(y_test, y_pred))\n",
    "print('RMSE: ',math.sqrt(mean_squared_error(y_test, y_pred)))"
   ]
  },
  {
   "cell_type": "code",
   "execution_count": 19,
   "id": "f26c0d25",
   "metadata": {},
   "outputs": [
    {
     "name": "stdout",
     "output_type": "stream",
     "text": [
      "0.9979845195283757 0.9978405566375455\n"
     ]
    }
   ],
   "source": [
    "# R_Square and Adjusted R Square\n",
    "import statsmodels.api as sm\n",
    "X_addC = sm.add_constant(X)\n",
    "result = sm.OLS(y, X_addC).fit()\n",
    "print(result.rsquared, result.rsquared_adj)"
   ]
  },
  {
   "cell_type": "code",
   "execution_count": 20,
   "id": "1656504b",
   "metadata": {},
   "outputs": [
    {
     "name": "stdout",
     "output_type": "stream",
     "text": [
      "99.99999999999983 %\n"
     ]
    }
   ],
   "source": [
    "score = clf.score(X_test,y_test)\n",
    "print(score*100,'%')"
   ]
  }
 ],
 "metadata": {
  "kernelspec": {
   "display_name": "Python 3 (ipykernel)",
   "language": "python",
   "name": "python3"
  },
  "language_info": {
   "codemirror_mode": {
    "name": "ipython",
    "version": 3
   },
   "file_extension": ".py",
   "mimetype": "text/x-python",
   "name": "python",
   "nbconvert_exporter": "python",
   "pygments_lexer": "ipython3",
   "version": "3.9.12"
  }
 },
 "nbformat": 4,
 "nbformat_minor": 5
}
