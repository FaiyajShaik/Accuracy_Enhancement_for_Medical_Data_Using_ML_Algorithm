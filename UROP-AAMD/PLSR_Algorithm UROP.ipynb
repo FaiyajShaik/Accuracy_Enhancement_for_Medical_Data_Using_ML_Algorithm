{
 "cells": [
  {
   "cell_type": "code",
   "execution_count": 1,
   "id": "0fe6d570",
   "metadata": {},
   "outputs": [],
   "source": [
    "#import required libraries\n",
    "from sys import stdout\n",
    "import numpy as np\n",
    "import pandas as pd\n",
    "import matplotlib.pyplot as plt\n",
    "\n",
    "from scipy.signal import savgol_filter\n",
    "\n",
    "from sklearn.cross_decomposition import PLSRegression\n",
    "from sklearn.model_selection import cross_val_predict\n",
    "from sklearn.metrics import mean_squared_error, r2_score"
   ]
  },
  {
   "cell_type": "code",
   "execution_count": 2,
   "id": "9fca1f4c",
   "metadata": {},
   "outputs": [],
   "source": [
    "#import dataset\n",
    "df = pd.read_excel(\"Simplified All samples.xlsx\")"
   ]
  },
  {
   "cell_type": "code",
   "execution_count": 3,
   "id": "c31a71f4",
   "metadata": {},
   "outputs": [
    {
     "data": {
      "text/html": [
       "<div>\n",
       "<style scoped>\n",
       "    .dataframe tbody tr th:only-of-type {\n",
       "        vertical-align: middle;\n",
       "    }\n",
       "\n",
       "    .dataframe tbody tr th {\n",
       "        vertical-align: top;\n",
       "    }\n",
       "\n",
       "    .dataframe thead th {\n",
       "        text-align: right;\n",
       "    }\n",
       "</style>\n",
       "<table border=\"1\" class=\"dataframe\">\n",
       "  <thead>\n",
       "    <tr style=\"text-align: right;\">\n",
       "      <th></th>\n",
       "      <th>Estimation value</th>\n",
       "      <th>Random sample value</th>\n",
       "      <th>Bmi Value</th>\n",
       "      <th>Rms value</th>\n",
       "    </tr>\n",
       "  </thead>\n",
       "  <tbody>\n",
       "    <tr>\n",
       "      <th>0</th>\n",
       "      <td>150.9780</td>\n",
       "      <td>140</td>\n",
       "      <td>24.1964</td>\n",
       "      <td>105.2693</td>\n",
       "    </tr>\n",
       "    <tr>\n",
       "      <th>1</th>\n",
       "      <td>150.9780</td>\n",
       "      <td>147</td>\n",
       "      <td>24.1964</td>\n",
       "      <td>105.4302</td>\n",
       "    </tr>\n",
       "    <tr>\n",
       "      <th>2</th>\n",
       "      <td>150.4670</td>\n",
       "      <td>125</td>\n",
       "      <td>23.6652</td>\n",
       "      <td>105.3727</td>\n",
       "    </tr>\n",
       "    <tr>\n",
       "      <th>3</th>\n",
       "      <td>151.7517</td>\n",
       "      <td>135</td>\n",
       "      <td>24.9929</td>\n",
       "      <td>104.9116</td>\n",
       "    </tr>\n",
       "    <tr>\n",
       "      <th>4</th>\n",
       "      <td>151.2245</td>\n",
       "      <td>156</td>\n",
       "      <td>24.4510</td>\n",
       "      <td>104.9896</td>\n",
       "    </tr>\n",
       "  </tbody>\n",
       "</table>\n",
       "</div>"
      ],
      "text/plain": [
       "   Estimation value  Random sample value  Bmi Value  Rms value\n",
       "0          150.9780                  140    24.1964   105.2693\n",
       "1          150.9780                  147    24.1964   105.4302\n",
       "2          150.4670                  125    23.6652   105.3727\n",
       "3          151.7517                  135    24.9929   104.9116\n",
       "4          151.2245                  156    24.4510   104.9896"
      ]
     },
     "execution_count": 3,
     "metadata": {},
     "output_type": "execute_result"
    }
   ],
   "source": [
    "#first 5 rows of the dataframe\n",
    "df.head()"
   ]
  },
  {
   "cell_type": "code",
   "execution_count": 4,
   "id": "f8533670",
   "metadata": {},
   "outputs": [
    {
     "data": {
      "text/plain": [
       "(31, 4)"
      ]
     },
     "execution_count": 4,
     "metadata": {},
     "output_type": "execute_result"
    }
   ],
   "source": [
    "#Number of rows and Columns\n",
    "df.shape"
   ]
  },
  {
   "cell_type": "code",
   "execution_count": 5,
   "id": "accbcfcd",
   "metadata": {},
   "outputs": [
    {
     "name": "stdout",
     "output_type": "stream",
     "text": [
      "<class 'pandas.core.frame.DataFrame'>\n",
      "RangeIndex: 31 entries, 0 to 30\n",
      "Data columns (total 4 columns):\n",
      " #   Column               Non-Null Count  Dtype  \n",
      "---  ------               --------------  -----  \n",
      " 0   Estimation value     31 non-null     float64\n",
      " 1   Random sample value  31 non-null     int64  \n",
      " 2   Bmi Value            31 non-null     float64\n",
      " 3   Rms value            31 non-null     float64\n",
      "dtypes: float64(3), int64(1)\n",
      "memory usage: 1.1 KB\n"
     ]
    }
   ],
   "source": [
    "#To see if there are any null values\n",
    "df.info()"
   ]
  },
  {
   "cell_type": "code",
   "execution_count": 6,
   "id": "09c11d8f",
   "metadata": {},
   "outputs": [
    {
     "data": {
      "text/html": [
       "<div>\n",
       "<style scoped>\n",
       "    .dataframe tbody tr th:only-of-type {\n",
       "        vertical-align: middle;\n",
       "    }\n",
       "\n",
       "    .dataframe tbody tr th {\n",
       "        vertical-align: top;\n",
       "    }\n",
       "\n",
       "    .dataframe thead th {\n",
       "        text-align: right;\n",
       "    }\n",
       "</style>\n",
       "<table border=\"1\" class=\"dataframe\">\n",
       "  <thead>\n",
       "    <tr style=\"text-align: right;\">\n",
       "      <th></th>\n",
       "      <th>Estimation value</th>\n",
       "      <th>Random sample value</th>\n",
       "      <th>Bmi Value</th>\n",
       "      <th>Rms value</th>\n",
       "    </tr>\n",
       "  </thead>\n",
       "  <tbody>\n",
       "    <tr>\n",
       "      <th>count</th>\n",
       "      <td>31.000000</td>\n",
       "      <td>31.000000</td>\n",
       "      <td>31.000000</td>\n",
       "      <td>31.000000</td>\n",
       "    </tr>\n",
       "    <tr>\n",
       "      <th>mean</th>\n",
       "      <td>153.407245</td>\n",
       "      <td>146.483871</td>\n",
       "      <td>26.744148</td>\n",
       "      <td>105.130329</td>\n",
       "    </tr>\n",
       "    <tr>\n",
       "      <th>std</th>\n",
       "      <td>3.972386</td>\n",
       "      <td>16.173787</td>\n",
       "      <td>4.104966</td>\n",
       "      <td>0.270287</td>\n",
       "    </tr>\n",
       "    <tr>\n",
       "      <th>min</th>\n",
       "      <td>148.896400</td>\n",
       "      <td>121.000000</td>\n",
       "      <td>22.031000</td>\n",
       "      <td>104.398200</td>\n",
       "    </tr>\n",
       "    <tr>\n",
       "      <th>25%</th>\n",
       "      <td>150.645000</td>\n",
       "      <td>133.000000</td>\n",
       "      <td>23.849800</td>\n",
       "      <td>104.950600</td>\n",
       "    </tr>\n",
       "    <tr>\n",
       "      <th>50%</th>\n",
       "      <td>151.751700</td>\n",
       "      <td>144.000000</td>\n",
       "      <td>25.103800</td>\n",
       "      <td>105.219400</td>\n",
       "    </tr>\n",
       "    <tr>\n",
       "      <th>75%</th>\n",
       "      <td>156.137500</td>\n",
       "      <td>158.000000</td>\n",
       "      <td>29.559900</td>\n",
       "      <td>105.340800</td>\n",
       "    </tr>\n",
       "    <tr>\n",
       "      <th>max</th>\n",
       "      <td>162.334000</td>\n",
       "      <td>178.000000</td>\n",
       "      <td>36.000000</td>\n",
       "      <td>105.512000</td>\n",
       "    </tr>\n",
       "  </tbody>\n",
       "</table>\n",
       "</div>"
      ],
      "text/plain": [
       "       Estimation value  Random sample value  Bmi Value   Rms value\n",
       "count         31.000000            31.000000  31.000000   31.000000\n",
       "mean         153.407245           146.483871  26.744148  105.130329\n",
       "std            3.972386            16.173787   4.104966    0.270287\n",
       "min          148.896400           121.000000  22.031000  104.398200\n",
       "25%          150.645000           133.000000  23.849800  104.950600\n",
       "50%          151.751700           144.000000  25.103800  105.219400\n",
       "75%          156.137500           158.000000  29.559900  105.340800\n",
       "max          162.334000           178.000000  36.000000  105.512000"
      ]
     },
     "execution_count": 6,
     "metadata": {},
     "output_type": "execute_result"
    }
   ],
   "source": [
    "#Description of the data\n",
    "df.describe()"
   ]
  },
  {
   "cell_type": "code",
   "execution_count": 7,
   "id": "4f9a5a3a",
   "metadata": {},
   "outputs": [],
   "source": [
    "#splitting data into train & test\n",
    "y= df.iloc[ : , :-3].values\n",
    "X= df.iloc[ : , 2:4].values"
   ]
  },
  {
   "cell_type": "code",
   "execution_count": 8,
   "id": "d8ea5b3c",
   "metadata": {},
   "outputs": [
    {
     "data": {
      "text/plain": [
       "(31, 2)"
      ]
     },
     "execution_count": 8,
     "metadata": {},
     "output_type": "execute_result"
    }
   ],
   "source": [
    "#Number of rows and columns of test data\n",
    "X.shape"
   ]
  },
  {
   "cell_type": "code",
   "execution_count": 9,
   "id": "9d21d9d7",
   "metadata": {},
   "outputs": [
    {
     "data": {
      "text/plain": [
       "(31, 1)"
      ]
     },
     "execution_count": 9,
     "metadata": {},
     "output_type": "execute_result"
    }
   ],
   "source": [
    "#Number of rows and columns of train data\n",
    "y.shape"
   ]
  },
  {
   "cell_type": "code",
   "execution_count": 10,
   "id": "d7782274",
   "metadata": {},
   "outputs": [],
   "source": [
    "# split data\n",
    "from sklearn.model_selection import train_test_split\n",
    "X_train, X_test, y_train, y_test = train_test_split(X, y, test_size=0.33, random_state=42)"
   ]
  },
  {
   "cell_type": "code",
   "execution_count": 11,
   "id": "24b5695d",
   "metadata": {},
   "outputs": [],
   "source": [
    "# create PLSRegression model\n",
    "from sklearn.cross_decomposition import PLSRegression\n",
    "from sklearn.model_selection import cross_val_predict\n",
    "from sklearn.metrics import mean_squared_error, r2_score\n",
    "pls = PLSRegression(n_components=2)"
   ]
  },
  {
   "cell_type": "code",
   "execution_count": 12,
   "id": "1231aef1",
   "metadata": {},
   "outputs": [
    {
     "data": {
      "text/plain": [
       "PLSRegression()"
      ]
     },
     "execution_count": 12,
     "metadata": {},
     "output_type": "execute_result"
    }
   ],
   "source": [
    "# fit the model\n",
    "pls.fit(X_train, y_train)"
   ]
  },
  {
   "cell_type": "code",
   "execution_count": 13,
   "id": "9d8c92ec",
   "metadata": {},
   "outputs": [],
   "source": [
    "# Make predictions using the test data\n",
    "y_pred = pls.predict(X_test)"
   ]
  },
  {
   "cell_type": "code",
   "execution_count": 14,
   "id": "b781b97c",
   "metadata": {},
   "outputs": [
    {
     "data": {
      "text/plain": [
       "array([[ 29.3859 , 105.3408 ],\n",
       "       [ 26.9127 , 105.4593 ],\n",
       "       [ 30.8444 , 105.03311],\n",
       "       [ 27.5872 , 105.2372 ],\n",
       "       [ 23.3066 , 105.2613 ],\n",
       "       [ 22.031  , 105.2194 ],\n",
       "       [ 35.086  , 104.9986 ],\n",
       "       [ 35.5998 , 104.9976 ],\n",
       "       [ 22.3704 , 105.4754 ],\n",
       "       [ 24.1964 , 105.2693 ],\n",
       "       [ 24.451  , 104.9896 ]])"
      ]
     },
     "execution_count": 14,
     "metadata": {},
     "output_type": "execute_result"
    }
   ],
   "source": [
    "#Training set\n",
    "X_test"
   ]
  },
  {
   "cell_type": "code",
   "execution_count": 15,
   "id": "d02ca286",
   "metadata": {},
   "outputs": [
    {
     "data": {
      "image/png": "[encoded data removed]",
      "text/plain": [
       "<Figure size 432x288 with 1 Axes>"
      ]
     },
     "metadata": {
      "needs_background": "light"
     },
     "output_type": "display_data"
    }
   ],
   "source": [
    "#Ploting training set\n",
    "plt.plot(X_test)\n",
    "plt.show()"
   ]
  },
  {
   "cell_type": "code",
   "execution_count": 16,
   "id": "8cba4f27",
   "metadata": {},
   "outputs": [
    {
     "data": {
      "text/plain": [
       "array([[155.87988988],\n",
       "       [153.44982161],\n",
       "       [157.37678678],\n",
       "       [154.16350009],\n",
       "       [150.00613619],\n",
       "       [148.78043455],\n",
       "       [161.49912668],\n",
       "       [161.99762662],\n",
       "       [149.04083476],\n",
       "       [150.86682729],\n",
       "       [151.18879006]])"
      ]
     },
     "execution_count": 16,
     "metadata": {},
     "output_type": "execute_result"
    }
   ],
   "source": [
    "#Predicted values\n",
    "y_pred"
   ]
  },
  {
   "cell_type": "code",
   "execution_count": 17,
   "id": "1fcafc94",
   "metadata": {},
   "outputs": [
    {
     "data": {
      "text/plain": [
       "array([[155.97  ],\n",
       "       [153.591 ],\n",
       "       [157.6109],\n",
       "       [154.24  ],\n",
       "       [150.1228],\n",
       "       [148.8964],\n",
       "       [161.455 ],\n",
       "       [161.9497],\n",
       "       [149.221 ],\n",
       "       [150.978 ],\n",
       "       [151.2245]])"
      ]
     },
     "execution_count": 17,
     "metadata": {},
     "output_type": "execute_result"
    }
   ],
   "source": [
    "#Estimated Values\n",
    "y_test"
   ]
  },
  {
   "cell_type": "code",
   "execution_count": 18,
   "id": "0f2953bf",
   "metadata": {},
   "outputs": [],
   "source": [
    "# Calculate the mean squared error\n",
    "from sklearn.metrics import mean_squared_error\n",
    "mse = mean_squared_error(y_test, y_pred)"
   ]
  },
  {
   "cell_type": "code",
   "execution_count": 19,
   "id": "dbc02829",
   "metadata": {},
   "outputs": [
    {
     "name": "stdout",
     "output_type": "stream",
     "text": [
      "0.015100822472642265\n"
     ]
    }
   ],
   "source": [
    "# Print the mean squared error\n",
    "print(mse)"
   ]
  },
  {
   "cell_type": "code",
   "execution_count": 20,
   "id": "8362f264",
   "metadata": {},
   "outputs": [
    {
     "name": "stdout",
     "output_type": "stream",
     "text": [
      "MSE:  0.015100822472642265\n",
      "RMSE:  0.12288540382259508\n"
     ]
    }
   ],
   "source": [
    "from sklearn.metrics import mean_squared_error\n",
    "import math\n",
    "print('MSE: ',mean_squared_error(y_test, y_pred))\n",
    "print('RMSE: ',math.sqrt(mean_squared_error(y_test, y_pred)))"
   ]
  },
  {
   "cell_type": "code",
   "execution_count": 21,
   "id": "b8e0f4ad",
   "metadata": {},
   "outputs": [
    {
     "name": "stdout",
     "output_type": "stream",
     "text": [
      "0.9979845195283757 0.9978405566375455\n"
     ]
    }
   ],
   "source": [
    "# R_Square and Adjusted R Square\n",
    "import statsmodels.api as sm\n",
    "X_addC = sm.add_constant(X)\n",
    "result = sm.OLS(y, X_addC).fit()\n",
    "print(result.rsquared, result.rsquared_adj)"
   ]
  },
  {
   "cell_type": "code",
   "execution_count": 22,
   "id": "c2b43b2f",
   "metadata": {},
   "outputs": [
    {
     "name": "stdout",
     "output_type": "stream",
     "text": [
      "99.92328558027582 %\n"
     ]
    }
   ],
   "source": [
    "#Accuracy\n",
    "score = pls.score(X_test,y_test)\n",
    "print(score*100,'%')"
   ]
  },
  {
   "cell_type": "code",
   "execution_count": 23,
   "id": "9149b44c",
   "metadata": {},
   "outputs": [
    {
     "data": {
      "image/png": "[encoded data removed]",
      "text/plain": [
       "<Figure size 432x288 with 1 Axes>"
      ]
     },
     "metadata": {
      "needs_background": "light"
     },
     "output_type": "display_data"
    }
   ],
   "source": [
    "# plot the predicted Values\n",
    "plt.plot(y_pred)\n",
    "plt.xticks(rotation=90)\n",
    "plt.show()"
   ]
  }
 ],
 "metadata": {
  "kernelspec": {
   "display_name": "Python 3 (ipykernel)",
   "language": "python",
   "name": "python3"
  },
  "language_info": {
   "codemirror_mode": {
    "name": "ipython",
    "version": 3
   },
   "file_extension": ".py",
   "mimetype": "text/x-python",
   "name": "python",
   "nbconvert_exporter": "python",
   "pygments_lexer": "ipython3",
   "version": "3.9.12"
  }
 },
 "nbformat": 4,
 "nbformat_minor": 5
}
